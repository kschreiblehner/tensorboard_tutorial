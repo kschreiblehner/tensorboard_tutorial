{
 "cells": [
  {
   "cell_type": "markdown",
   "metadata": {},
   "source": [
    "# Aufgaben zum Tutorial - Grundlagen in TensorBoard"
   ]
  },
  {
   "cell_type": "markdown",
   "metadata": {},
   "source": [
    "## Aufgabe 1\n",
    "\n",
    "Starten Sie TensorBoard (Host: 0.0.0.0, Port: 6100, log_dir: /tf/tensorboard_log) aus einem Docker-Container über die Konsole und zeigen Sie die Weboberfläche in einem Browser an.\n",
    "\n",
    "\n",
    "Tipp: Über den Befehl \n",
    "\n",
    "`docker exec -it CONTAINER_NAME /bin/bash`\n",
    "\n",
    "können Sie die Bash-Konsole des Containers öffnen. Den Container-Namen erhalten Sie über den Befehl\n",
    "\n",
    "`docker container ls`."
   ]
  },
  {
   "cell_type": "markdown",
   "metadata": {},
   "source": [
    "Öffnen der Docker-Konsole:\n",
    "\n",
    "`docker exec -it CONTAINER_NAME /bin/bash`\n",
    "\n",
    "Ausführen von TensorBoard:\n",
    "\n",
    "`tensorboard --log_dir /tf/tensorboard_log --host 0.0.0.0 --port 6100`"
   ]
  },
  {
   "cell_type": "markdown",
   "metadata": {},
   "source": [
    "## Aufgabe 2\n",
    "\n",
    "Vervollständigen Sie das nachstehende Modell, sodass der Loss und die Metrik `accuracy` für jede Epoche im TensorBoard-Webinterface unter dem Tab `Scalars` angezeigt wird."
   ]
  },
  {
   "cell_type": "markdown",
   "metadata": {},
   "source": [
    "### Import der notwendigen Bibliotheken"
   ]
  },
  {
   "cell_type": "code",
   "execution_count": null,
   "metadata": {},
   "outputs": [],
   "source": [
    "import os\n",
    "import datetime\n",
    "\n",
    "import tensorflow as tf\n",
    "from tensorboard.plugins.hparams import api as hp\n",
    "\n",
    "import numpy as np\n",
    "import matplotlib.pyplot as plt"
   ]
  },
  {
   "cell_type": "markdown",
   "metadata": {},
   "source": [
    "### Import des MNIST Datensatzes\n",
    "\n",
    "Dieser Datensatz besteht aus 28x28 Pixel Bildern, welche handgeschriebene Ziffern zwischen 0 und 9 darstellen. Jedes Bild besitzt ein Label mit der entsprechenden Zahl, welche auf dem Bild zu sehen ist. Dazu wird ein Sample des Datensatzes mit den Labels angezeigt."
   ]
  },
  {
   "cell_type": "code",
   "execution_count": null,
   "metadata": {},
   "outputs": [],
   "source": [
    "mnist = tf.keras.datasets.mnist\n",
    "\n",
    "(train_images, train_labels), (test_images, test_labels) = mnist.load_data()\n",
    "\n",
    "class_names = np.arange(10)\n",
    "\n",
    "plt.figure(figsize=(10,10))\n",
    "for i in range(25):\n",
    "    plt.subplot(5,5,i+1)\n",
    "    plt.xticks([])\n",
    "    plt.yticks([])\n",
    "    plt.grid(False)\n",
    "    plt.imshow(train_images[i], cmap=plt.cm.binary)\n",
    "    plt.xlabel(class_names[train_labels[i]])\n",
    "plt.show()"
   ]
  },
  {
   "cell_type": "markdown",
   "metadata": {},
   "source": [
    "### Erstellen des Keras-Modells"
   ]
  },
  {
   "cell_type": "code",
   "execution_count": null,
   "metadata": {},
   "outputs": [],
   "source": [
    "model = tf.keras.models.Sequential([\n",
    "            tf.keras.layers.Flatten(input_shape=(28, 28)),\n",
    "            tf.keras.layers.Dense(256, activation='relu'),\n",
    "            tf.keras.layers.Dropout(0.2),\n",
    "            tf.keras.layers.Dense(10, activation='softmax')\n",
    "    ])\n",
    "\n",
    "model.compile(optimizer='adam',\n",
    "              loss='sparse_categorical_crossentropy',\n",
    "              metrics=['accuracy'])  # Einfuegen von 'accuracy' als Metrik"
   ]
  },
  {
   "cell_type": "markdown",
   "metadata": {},
   "source": [
    "### Training des Netzes "
   ]
  },
  {
   "cell_type": "code",
   "execution_count": null,
   "metadata": {},
   "outputs": [],
   "source": [
    "# Definition des log-Directory\n",
    "log_dir = '/tf/tensorboard_log/run_' + datetime.datetime.now().strftime('%Y%m%d-%H%M%S')  \n",
    "# Erstellung des TensorBoard-Callbacks\n",
    "tensorboard_callback = tf.keras.callbacks.TensorBoard(log_dir=log_dir, write_graph=True)\n",
    "\n",
    "model.fit(x=train_images[:1000],\n",
    "          y=train_labels[:1000],\n",
    "          epochs=50,\n",
    "          validation_data=(test_images, test_labels),\n",
    "          callbacks=[tensorboard_callback],  # Einfuegen des TensorBoard-Callbacks\n",
    "          verbose=0)"
   ]
  },
  {
   "cell_type": "markdown",
   "metadata": {},
   "source": [
    "## Aufgabe 3\n",
    "\n",
    "Erweitern Sie das in Aufgabe 2 erstellte Keras-Modell, sodass eine zweite verdeckte Schicht (`Dense`) mit 128 Neuronen nach dem `Dense`-Layer eingefügt wird. Betrachten Sie den Modell-Graphen in TensorBoard. Welche Veränderungen zum Modell aus Aufgabe 2 können Sie feststellen?"
   ]
  },
  {
   "cell_type": "code",
   "execution_count": null,
   "metadata": {},
   "outputs": [],
   "source": [
    "model = tf.keras.models.Sequential([\n",
    "    tf.keras.layers.Flatten(input_shape=(28, 28)),\n",
    "    tf.keras.layers.Dense(256, activation='relu'),\n",
    "    tf.keras.layers.Dense(128, activation='relu'),  # Einfuegen des zweiten Dense-Layers\n",
    "    tf.keras.layers.Dropout(0.2),\n",
    "    tf.keras.layers.Dense(10, activation='softmax')\n",
    "])\n",
    "\n",
    "model.compile(optimizer='adam',\n",
    "              loss='sparse_categorical_crossentropy',\n",
    "              metrics=['accuracy'])  # Einfuegen von 'accuracy' als Metrik"
   ]
  },
  {
   "cell_type": "code",
   "execution_count": null,
   "metadata": {},
   "outputs": [],
   "source": [
    "# Definition des log-Directory\n",
    "log_dir = '/tf/tensorboard_log/run_' + datetime.datetime.now().strftime('%Y%m%d-%H%M%S')  \n",
    "# Erstellung des TensorBoard-Callbacks\n",
    "tensorboard_callback = tf.keras.callbacks.TensorBoard(log_dir=log_dir, write_graph=True)\n",
    "\n",
    "model.fit(x=train_images[:1000],\n",
    "          y=train_labels[:1000],\n",
    "          epochs=50,\n",
    "          validation_data=(test_images, test_labels),\n",
    "          callbacks=[tensorboard_callback],  # Einfügen des TensorBoard-Callbacks\n",
    "          verbose=0)"
   ]
  },
  {
   "cell_type": "markdown",
   "metadata": {},
   "source": [
    "## Aufgabe 4\n",
    "\n",
    "Betrachten Sie den Verlauf der Loss- und Accuracy-Kurve von den Modellen aus Aufgabe 2 und Aufgabe 3. Was können Sie feststellen?"
   ]
  },
  {
   "cell_type": "markdown",
   "metadata": {},
   "source": [
    "## Aufgabe 5\n",
    "\n",
    "Vergleichen Sie die nachstehenden Parameterkonfigurationen für das Modell aus Aufgabe 3\n",
    "\n",
    "- dropout_rate $\\in$ [0.1, 0.2, 0.5, 0.8],\n",
    "- Dense-Schicht 1 mit 32, 256 und 512 Neuronen und\n",
    "- Dense-Schicht 2 mit 32, 256 und 512 Neuronen,\n",
    "\n",
    "bezüglich der `accuracy`. Nutzen Sie dafür das Modul HParams in Tensorboard. \n",
    "\n",
    "Welche Parameter-Kombinationen sind ihrer Meinung nach die Besten?\n",
    "\n",
    "Zusatz: Wie würden Sie die Zeit als Vergleichsparameter hinzufügen?"
   ]
  },
  {
   "cell_type": "code",
   "execution_count": null,
   "metadata": {},
   "outputs": [],
   "source": [
    "# Festlegen der Parameter fuer hparams\n",
    "\n",
    "HP_NUM_UNITS_1 = hp.HParam('num_units_1', hp.Discrete([32, 256, 512]))\n",
    "HP_NUM_UNITS_2 = hp.HParam('num_units_2', hp.Discrete([32, 256, 512]))\n",
    "HP_DROPOUT = hp.HParam('dropout', hp.Discrete([0.1, 0.2, 0.5, 0.8]))\n",
    "HP_TIME = hp.HParam('time', hp.RealInterval(0., 60.))"
   ]
  },
  {
   "cell_type": "code",
   "execution_count": null,
   "metadata": {},
   "outputs": [],
   "source": [
    "def create_model(num_units_1, num_units_2, dropout_rate):\n",
    "    model = tf.keras.models.Sequential([\n",
    "        tf.keras.layers.Flatten(),\n",
    "        tf.keras.layers.Dense(num_units_1, activation=tf.nn.relu),\n",
    "        tf.keras.layers.Dense(num_units_2, activation=tf.nn.relu),\n",
    "        tf.keras.layers.Dropout(dropout_rate),\n",
    "        tf.keras.layers.Dense(10, activation=tf.nn.softmax)\n",
    "    ])\n",
    "    return model\n",
    "\n",
    "def compile_and_fit(model, hparams, epochs, log_dir):\n",
    "    model.compile(\n",
    "        optimizer='adam',\n",
    "        loss='sparse_categorical_crossentropy',\n",
    "        metrics=['accuracy']\n",
    "    )\n",
    "\n",
    "    model.fit(\n",
    "        train_images[:1000],\n",
    "        train_labels[:1000],\n",
    "        epochs=epochs,\n",
    "        callbacks=[tf.keras.callbacks.TensorBoard(log_dir),\n",
    "                   hp.KerasCallback(log_dir, hparams)],\n",
    "        verbose=0\n",
    "    )\n",
    "    _, accuracy = model.evaluate(test_images, test_labels)\n",
    "    return accuracy"
   ]
  },
  {
   "cell_type": "code",
   "execution_count": null,
   "metadata": {},
   "outputs": [],
   "source": [
    "for units_1 in HP_NUM_UNITS_1.domain.values:\n",
    "    for units_2 in HP_NUM_UNITS_2.domain.values:\n",
    "        for dropout_rate in np.random.random_sample(3):\n",
    "            hparams = {\n",
    "                HP_NUM_UNITS_1: units_1,\n",
    "                HP_NUM_UNITS_2: units_2,\n",
    "                HP_DROPOUT: dropout_rate,\n",
    "            }\n",
    "            \n",
    "            print('Running example with\\nunits_1: {}\\nunits_2: {}\\ndropout_rate: {}'\n",
    "                  .format(units_1, units_2, dropout_rate))\n",
    "            \n",
    "            log_dir = '/tf/tensorboard_log/hparam_t/run_' + datetime.datetime.now().strftime('%Y%m%d-%H%M%S')\n",
    "            \n",
    "            model = create_model(units_1, units_2, dropout_rate)\n",
    "            _ = compile_and_fit(model, hparams, 10, log_dir)"
   ]
  },
  {
   "cell_type": "markdown",
   "metadata": {},
   "source": [
    "### Zusatz\n",
    "\n",
    "Dies kann durch das Schreiben manueller Werte umgesetzt, also nicht über eine Keras-Callback, umgesetzt werden."
   ]
  },
  {
   "cell_type": "code",
   "execution_count": null,
   "metadata": {},
   "outputs": [],
   "source": []
  }
 ],
 "metadata": {
  "kernelspec": {
   "display_name": "Python 3",
   "language": "python",
   "name": "python3"
  },
  "language_info": {
   "codemirror_mode": {
    "name": "ipython",
    "version": 3
   },
   "file_extension": ".py",
   "mimetype": "text/x-python",
   "name": "python",
   "nbconvert_exporter": "python",
   "pygments_lexer": "ipython3",
   "version": "3.6.9"
  }
 },
 "nbformat": 4,
 "nbformat_minor": 2
}
